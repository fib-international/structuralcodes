{
 "cells": [
  {
   "cell_type": "markdown",
   "metadata": {},
   "source": [
    "It is considered a beam of 13.00 m central span with two cantilevers of 6.00 meters. The cross section is formed by a flange 1.00 meter wide and 0.10 m thick. The web is 0.17 meters wide.\n",
    "The total height of the beam is 0.45 m. The beam in the supports is reinforced in the upper face with 8fi16 bars, two of which are within 17 cm of the web.\n",
    "\n",
    "![beam](EX3.png)\n",
    "\n",
    "The structure is subject to the following actions:\n",
    "- Self weight of the beam\n",
    "- Dead load consisting of two railings of 0.5 kN/m weight each, which will be assumed to be located at the edge of the section\n",
    "- Live load of 4.0 kN/m²\n",
    "Geometric cover of the reinforcements is 30 mm.\n",
    "\n",
    "It is requested:\n",
    "1. Shear reinforcement in critical sections\n",
    "2. Shear reinforcement between web and flanges\n",
    "\n",
    "\n"
   ]
  },
  {
   "cell_type": "code",
   "execution_count": 4,
   "metadata": {},
   "outputs": [],
   "source": [
    "from structuralcodes.materials.concrete import ConcreteEC2_2004,ConcreteEC2_2023\n",
    "from structuralcodes.materials.reinforcement import ReinforcementEC2_2023, ReinforcementEC2_2004\n",
    "from shapely import Polygon\n",
    "from structuralcodes.geometry import SurfaceGeometry,CompoundGeometry\n",
    "from structuralcodes.sections._reinforcement import (\n",
    "    add_reinforcement,\n",
    "    add_reinforcement_line,\n",
    ")\n",
    "from structuralcodes.sections._generic import GenericSection\n",
    "from structuralcodes.plots.section_plots import draw_section\n",
    "import math\n",
    "from structuralcodes.codes.ec2_2004 import shear"
   ]
  },
  {
   "cell_type": "markdown",
   "metadata": {},
   "source": [
    "Cross section"
   ]
  },
  {
   "cell_type": "code",
   "execution_count": 5,
   "metadata": {},
   "outputs": [
    {
     "data": {
      "image/png": "[encoded data removed]",
      "text/plain": [
       "<Figure size 400x400 with 1 Axes>"
      ]
     },
     "metadata": {},
     "output_type": "display_data"
    }
   ],
   "source": [
    "# Materials\n",
    "fi =2.5\n",
    "concrete = ConcreteEC2_2004(25)\n",
    "reinforcemnet = ReinforcementEC2_2004(fyk=500, Es=200000, density=7850, ftk=550, epsuk=0.07)  \n",
    "# Create section\n",
    "poly = Polygon(((0, 0), (1000, 0), (1000, 100), (500+170/2, 100),(500+170/2, 450),(500-170/2, 450),(500-170/2, 100),(0,100)))\n",
    "geo = SurfaceGeometry(poly, concrete)\n",
    "geo = add_reinforcement_line(geo, (50, 30+16/2), (950, 30+16/2), 16, reinforcemnet,n=8)\n",
    "sec = GenericSection(CompoundGeometry([geo]))\n",
    "draw_section(sec,\"Section\")\n",
    "\n"
   ]
  },
  {
   "cell_type": "markdown",
   "metadata": {},
   "source": [
    "$V_{ED}$:\n",
    "\n",
    "\n",
    "\n",
    "![Beam](EX3_beamV.png)\n",
    "![Beam](EX3_beamM.png)\n",
    "\n",
    "![Ved_pos](EX3_ved_pos.png)\n",
    "![Ved_neg](EX3_ved_neg.png)"
   ]
  },
  {
   "cell_type": "code",
   "execution_count": 6,
   "metadata": {},
   "outputs": [
    {
     "name": "stdout",
     "output_type": "stream",
     "text": [
      "Ved left section = 70.9 kN\n",
      "Ved right section = 84.0 kN\n"
     ]
    }
   ],
   "source": [
    "sw = sec.gross_properties.mass  * 10 # kN/m2\n",
    "dead_load = 2*0.5 # kN/m2\n",
    "live_load = 4 # kN/m2\n",
    "cover = 30 # mm\n",
    "\n",
    "\n",
    "q = (1.35*(sw+dead_load)+1.5*(4)) # kN/m\n",
    "d = (450-30-16/2)/1000 # m\n",
    "ved_left = q*(6-d)\n",
    "ved_right = 89.2 - q*d\n",
    "print(f'Ved left section = {round(ved_left,1)} kN')\n",
    "print(f'Ved right section = {round(ved_right,1)} kN')\n",
    "\n",
    "\n"
   ]
  },
  {
   "cell_type": "code",
   "execution_count": 7,
   "metadata": {},
   "outputs": [
    {
     "name": "stdout",
     "output_type": "stream",
     "text": [
      "370.8\n",
      "Vrd_max = 196 kN\n",
      "Required transversal reinf. left section = 1.76 cm2/m\n",
      "Required transversal reinf. right section = 2.08 cm2/m\n"
     ]
    }
   ],
   "source": [
    "bw=170 #mm\n",
    "z = 0.9*(450-30-16/2) #mm\n",
    "print(z)\n",
    "theta = 21.8 #º \n",
    "ac=z*bw\n",
    "\n",
    "\n",
    "# compression strut\n",
    "vrd_max= shear.VRdmax(bw,z,concrete.fck,theta,0,ac,concrete.fcd())/1000 # kN\n",
    "print(f'Vrd_max = {round(vrd_max)} kN')\n",
    "\n",
    "# Required transversar reinforcement strut\n",
    "# asw_max_s = shear.Asw_max(concrete.fcd(),concrete.fck,bw,1,500/1.15,0,ac) *10  # cm2/m\n",
    "asw_left = ved_left /z/500*1e6*1.15/(1/math.tan(math.radians(theta))) /100  # cm2/m\n",
    "asw_right = ved_right /z/500*1e6*1.15/(1/math.tan(math.radians(theta))) /100  # cm2/m\n",
    "print(f'Required transversal reinf. left section = {round(asw_left,2)} cm2/m')\n",
    "print(f'Required transversal reinf. right section = {round(asw_right,2)} cm2/m')\n",
    "\n"
   ]
  },
  {
   "cell_type": "code",
   "execution_count": null,
   "metadata": {},
   "outputs": [],
   "source": []
  }
 ],
 "metadata": {
  "kernelspec": {
   "display_name": "venv",
   "language": "python",
   "name": "python3"
  },
  "language_info": {
   "codemirror_mode": {
    "name": "ipython",
    "version": 3
   },
   "file_extension": ".py",
   "mimetype": "text/x-python",
   "name": "python",
   "nbconvert_exporter": "python",
   "pygments_lexer": "ipython3",
   "version": "3.12.0"
  }
 },
 "nbformat": 4,
 "nbformat_minor": 2
}
